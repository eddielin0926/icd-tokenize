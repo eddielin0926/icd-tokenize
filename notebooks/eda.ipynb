{
 "cells": [
  {
   "cell_type": "markdown",
   "metadata": {},
   "source": [
    "# Exploratory Data Analysis"
   ]
  },
  {
   "cell_type": "code",
   "execution_count": 1,
   "metadata": {},
   "outputs": [],
   "source": [
    "import os\n",
    "import pandas as pd"
   ]
  },
  {
   "cell_type": "markdown",
   "metadata": {},
   "source": [
    "## ICD"
   ]
  },
  {
   "cell_type": "code",
   "execution_count": 2,
   "metadata": {},
   "outputs": [
    {
     "data": {
      "text/html": [
       "<div>\n",
       "<style scoped>\n",
       "    .dataframe tbody tr th:only-of-type {\n",
       "        vertical-align: middle;\n",
       "    }\n",
       "\n",
       "    .dataframe tbody tr th {\n",
       "        vertical-align: top;\n",
       "    }\n",
       "\n",
       "    .dataframe thead th {\n",
       "        text-align: right;\n",
       "    }\n",
       "</style>\n",
       "<table border=\"1\" class=\"dataframe\">\n",
       "  <thead>\n",
       "    <tr style=\"text-align: right;\">\n",
       "      <th></th>\n",
       "      <th>中文診斷</th>\n",
       "      <th>註記</th>\n",
       "      <th>ICD1_Iris</th>\n",
       "      <th>ICD2_Iris</th>\n",
       "      <th>ICD3_Iris</th>\n",
       "      <th>ICD4_Iris</th>\n",
       "      <th>ICD5_Iris</th>\n",
       "    </tr>\n",
       "  </thead>\n",
       "  <tbody>\n",
       "    <tr>\n",
       "      <th>0</th>\n",
       "      <td>泌尿道感染</td>\n",
       "      <td>0</td>\n",
       "      <td>N139</td>\n",
       "      <td>NaN</td>\n",
       "      <td>NaN</td>\n",
       "      <td>NaN</td>\n",
       "      <td>NaN</td>\n",
       "    </tr>\n",
       "    <tr>\n",
       "      <th>1</th>\n",
       "      <td>0402台鐵列車出軌事故</td>\n",
       "      <td>0</td>\n",
       "      <td>V813</td>\n",
       "      <td>NaN</td>\n",
       "      <td>NaN</td>\n",
       "      <td>NaN</td>\n",
       "      <td>NaN</td>\n",
       "    </tr>\n",
       "    <tr>\n",
       "      <th>2</th>\n",
       "      <td>18三套體</td>\n",
       "      <td>0</td>\n",
       "      <td>Q913</td>\n",
       "      <td>NaN</td>\n",
       "      <td>NaN</td>\n",
       "      <td>NaN</td>\n",
       "      <td>NaN</td>\n",
       "    </tr>\n",
       "    <tr>\n",
       "      <th>3</th>\n",
       "      <td>18對短臂症候群</td>\n",
       "      <td>0</td>\n",
       "      <td>Q935</td>\n",
       "      <td>NaN</td>\n",
       "      <td>NaN</td>\n",
       "      <td>NaN</td>\n",
       "      <td>NaN</td>\n",
       "    </tr>\n",
       "    <tr>\n",
       "      <th>4</th>\n",
       "      <td>２、３、４、５肋骨骨折</td>\n",
       "      <td>0</td>\n",
       "      <td>S224</td>\n",
       "      <td>NaN</td>\n",
       "      <td>NaN</td>\n",
       "      <td>NaN</td>\n",
       "      <td>NaN</td>\n",
       "    </tr>\n",
       "  </tbody>\n",
       "</table>\n",
       "</div>"
      ],
      "text/plain": [
       "           中文診斷  註記 ICD1_Iris ICD2_Iris ICD3_Iris ICD4_Iris ICD5_Iris\n",
       "0         泌尿道感染   0      N139       NaN       NaN       NaN       NaN\n",
       "1  0402台鐵列車出軌事故   0      V813       NaN       NaN       NaN       NaN\n",
       "2         18三套體   0      Q913       NaN       NaN       NaN       NaN\n",
       "3      18對短臂症候群   0      Q935       NaN       NaN       NaN       NaN\n",
       "4   ２、３、４、５肋骨骨折   0      S224       NaN       NaN       NaN       NaN"
      ]
     },
     "metadata": {},
     "output_type": "display_data"
    }
   ],
   "source": [
    "icd = pd.read_excel(\"../icd_tokenize/data/中文字典_1100712_提供張老師_自定義字典.xlsx\")\n",
    "display(icd.head())"
   ]
  },
  {
   "cell_type": "code",
   "execution_count": 3,
   "metadata": {},
   "outputs": [
    {
     "data": {
      "text/plain": [
       "<Axes: title={'center': 'ICD 個數'}>"
      ]
     },
     "execution_count": 3,
     "metadata": {},
     "output_type": "execute_result"
    },
    {
     "data": {
      "image/png": "[encoded data removed]",
      "text/plain": [
       "<Figure size 640x480 with 1 Axes>"
      ]
     },
     "metadata": {},
     "output_type": "display_data"
    }
   ],
   "source": [
    "icd_count = icd.count()\n",
    "pd.DataFrame(icd_count[2:7]).plot(kind='bar', rot=0, title='ICD 個數')"
   ]
  },
  {
   "cell_type": "code",
   "execution_count": 4,
   "metadata": {},
   "outputs": [
    {
     "name": "stdout",
     "output_type": "stream",
     "text": [
      "中文診斷 46069\n",
      "註記 8\n",
      "ICD1_Iris 3568\n",
      "ICD2_Iris 822\n",
      "ICD3_Iris 84\n",
      "ICD4_Iris 34\n",
      "ICD5_Iris 24\n"
     ]
    }
   ],
   "source": [
    "for col in icd.columns:\n",
    "    print(col, len(icd[col].dropna().unique()))"
   ]
  },
  {
   "cell_type": "markdown",
   "metadata": {},
   "source": [
    "## Dataset"
   ]
  },
  {
   "cell_type": "code",
   "execution_count": 5,
   "metadata": {},
   "outputs": [
    {
     "name": "stdout",
     "output_type": "stream",
     "text": [
      "1110217_斷字比對(11101).xlsx (14773, 46)\n",
      "1110316_斷字比對(11102).xlsx (15092, 46)\n",
      "1110420_斷字比對(11103).xlsx (17007, 46)\n",
      "1110523_斷字比對(11104).xlsx (13519, 46)\n",
      "1110623_斷字比對(11105).xlsx (16611, 46)\n",
      "1110727_斷字比對(11106).xlsx (18832, 46)\n",
      "1110829_斷字比對(11107).xlsx (16601, 46)\n",
      "1110922_斷字比對(11108).xlsx (15385, 46)\n",
      "1111025_斷字比對(11109).xlsx (16300, 46)\n",
      "1111121_斷字比對(11110).xlsx (16186, 46)\n",
      "1120109_斷字比對(11111).xlsx (15607, 46)\n",
      "1120206_斷字比對(11112).xlsx (16800, 46)\n",
      "1120215_斷字比對(11201).xlsx (17413, 46)\n",
      "1120324_斷字比對(11202).xlsx (18209, 46)\n",
      "1120529_斷字比對(11203).xlsx (18073, 46)\n",
      "1120529_斷字比對(11204).xlsx (14113, 46)\n",
      "1120627_斷字比對(11205).xlsx (17487, 46)\n",
      "1120728_斷字比對(11206).xlsx (17440, 46)\n"
     ]
    }
   ],
   "source": [
    "files = os.listdir(\"../data\")\n",
    "files = list(filter(lambda f: f[:2] != \"~$\", files))  # Prevent processing temporary excel files\n",
    "\n",
    "df_list = []\n",
    "for file in files:\n",
    "    df = pd.read_excel(f\"../data/{file}\", header=1)\n",
    "    df_list.append(df)\n",
    "    print(file, df.shape)"
   ]
  },
  {
   "cell_type": "code",
   "execution_count": 6,
   "metadata": {},
   "outputs": [
    {
     "data": {
      "text/html": [
       "<div>\n",
       "<style scoped>\n",
       "    .dataframe tbody tr th:only-of-type {\n",
       "        vertical-align: middle;\n",
       "    }\n",
       "\n",
       "    .dataframe tbody tr th {\n",
       "        vertical-align: top;\n",
       "    }\n",
       "\n",
       "    .dataframe thead th {\n",
       "        text-align: right;\n",
       "    }\n",
       "</style>\n",
       "<table border=\"1\" class=\"dataframe\">\n",
       "  <thead>\n",
       "    <tr style=\"text-align: right;\">\n",
       "      <th></th>\n",
       "      <th>NO</th>\n",
       "      <th>甲</th>\n",
       "      <th>甲2</th>\n",
       "      <th>甲3</th>\n",
       "      <th>甲4</th>\n",
       "      <th>乙</th>\n",
       "      <th>乙2</th>\n",
       "      <th>乙3</th>\n",
       "      <th>乙4</th>\n",
       "      <th>丙</th>\n",
       "      <th>...</th>\n",
       "      <th>丁2.1</th>\n",
       "      <th>丁3.1</th>\n",
       "      <th>丁4.1</th>\n",
       "      <th>其他.1</th>\n",
       "      <th>其他2.1</th>\n",
       "      <th>其他3.1</th>\n",
       "      <th>其他4.1</th>\n",
       "      <th>創傷代號.1</th>\n",
       "      <th>創傷代號\\n檢查</th>\n",
       "      <th>流水號</th>\n",
       "    </tr>\n",
       "  </thead>\n",
       "  <tbody>\n",
       "    <tr>\n",
       "      <th>0</th>\n",
       "      <td>1</td>\n",
       "      <td>急性腎衰竭</td>\n",
       "      <td>NaN</td>\n",
       "      <td>NaN</td>\n",
       "      <td>NaN</td>\n",
       "      <td>NaN</td>\n",
       "      <td>NaN</td>\n",
       "      <td>NaN</td>\n",
       "      <td>NaN</td>\n",
       "      <td>NaN</td>\n",
       "      <td>...</td>\n",
       "      <td>NaN</td>\n",
       "      <td>NaN</td>\n",
       "      <td>NaN</td>\n",
       "      <td>NaN</td>\n",
       "      <td>NaN</td>\n",
       "      <td>NaN</td>\n",
       "      <td>NaN</td>\n",
       "      <td>1</td>\n",
       "      <td>True</td>\n",
       "      <td>6710</td>\n",
       "    </tr>\n",
       "    <tr>\n",
       "      <th>1</th>\n",
       "      <td>2</td>\n",
       "      <td>心室顫動</td>\n",
       "      <td>NaN</td>\n",
       "      <td>NaN</td>\n",
       "      <td>NaN</td>\n",
       "      <td>菌血症</td>\n",
       "      <td>NaN</td>\n",
       "      <td>NaN</td>\n",
       "      <td>NaN</td>\n",
       "      <td>慢性腎臟疾病</td>\n",
       "      <td>...</td>\n",
       "      <td>心臟衰竭</td>\n",
       "      <td>NaN</td>\n",
       "      <td>NaN</td>\n",
       "      <td>NaN</td>\n",
       "      <td>NaN</td>\n",
       "      <td>NaN</td>\n",
       "      <td>NaN</td>\n",
       "      <td>1</td>\n",
       "      <td>True</td>\n",
       "      <td>1621</td>\n",
       "    </tr>\n",
       "    <tr>\n",
       "      <th>2</th>\n",
       "      <td>3</td>\n",
       "      <td>腎衰竭</td>\n",
       "      <td>NaN</td>\n",
       "      <td>NaN</td>\n",
       "      <td>NaN</td>\n",
       "      <td>NaN</td>\n",
       "      <td>NaN</td>\n",
       "      <td>NaN</td>\n",
       "      <td>NaN</td>\n",
       "      <td>NaN</td>\n",
       "      <td>...</td>\n",
       "      <td>NaN</td>\n",
       "      <td>NaN</td>\n",
       "      <td>NaN</td>\n",
       "      <td>NaN</td>\n",
       "      <td>NaN</td>\n",
       "      <td>NaN</td>\n",
       "      <td>NaN</td>\n",
       "      <td>1</td>\n",
       "      <td>True</td>\n",
       "      <td>715</td>\n",
       "    </tr>\n",
       "    <tr>\n",
       "      <th>3</th>\n",
       "      <td>4</td>\n",
       "      <td>吸入性肺炎</td>\n",
       "      <td>NaN</td>\n",
       "      <td>NaN</td>\n",
       "      <td>NaN</td>\n",
       "      <td>NaN</td>\n",
       "      <td>NaN</td>\n",
       "      <td>NaN</td>\n",
       "      <td>NaN</td>\n",
       "      <td>NaN</td>\n",
       "      <td>...</td>\n",
       "      <td>NaN</td>\n",
       "      <td>NaN</td>\n",
       "      <td>NaN</td>\n",
       "      <td>NaN</td>\n",
       "      <td>NaN</td>\n",
       "      <td>NaN</td>\n",
       "      <td>NaN</td>\n",
       "      <td>1</td>\n",
       "      <td>True</td>\n",
       "      <td>7866</td>\n",
       "    </tr>\n",
       "    <tr>\n",
       "      <th>4</th>\n",
       "      <td>5</td>\n",
       "      <td>肝內膽管惡性腫瘤</td>\n",
       "      <td>NaN</td>\n",
       "      <td>NaN</td>\n",
       "      <td>NaN</td>\n",
       "      <td>NaN</td>\n",
       "      <td>NaN</td>\n",
       "      <td>NaN</td>\n",
       "      <td>NaN</td>\n",
       "      <td>NaN</td>\n",
       "      <td>...</td>\n",
       "      <td>NaN</td>\n",
       "      <td>NaN</td>\n",
       "      <td>NaN</td>\n",
       "      <td>NaN</td>\n",
       "      <td>NaN</td>\n",
       "      <td>NaN</td>\n",
       "      <td>NaN</td>\n",
       "      <td>1</td>\n",
       "      <td>True</td>\n",
       "      <td>1046</td>\n",
       "    </tr>\n",
       "  </tbody>\n",
       "</table>\n",
       "<p>5 rows × 46 columns</p>\n",
       "</div>"
      ],
      "text/plain": [
       "   NO         甲   甲2   甲3   甲4    乙   乙2   乙3   乙4       丙  ...  丁2.1 丁3.1  \\\n",
       "0   1     急性腎衰竭  NaN  NaN  NaN  NaN  NaN  NaN  NaN     NaN  ...   NaN  NaN   \n",
       "1   2      心室顫動  NaN  NaN  NaN  菌血症  NaN  NaN  NaN  慢性腎臟疾病  ...  心臟衰竭  NaN   \n",
       "2   3       腎衰竭  NaN  NaN  NaN  NaN  NaN  NaN  NaN     NaN  ...   NaN  NaN   \n",
       "3   4     吸入性肺炎  NaN  NaN  NaN  NaN  NaN  NaN  NaN     NaN  ...   NaN  NaN   \n",
       "4   5  肝內膽管惡性腫瘤  NaN  NaN  NaN  NaN  NaN  NaN  NaN     NaN  ...   NaN  NaN   \n",
       "\n",
       "  丁4.1 其他.1 其他2.1 其他3.1  其他4.1 創傷代號.1 創傷代號\\n檢查   流水號  \n",
       "0  NaN  NaN   NaN   NaN    NaN      1     True  6710  \n",
       "1  NaN  NaN   NaN   NaN    NaN      1     True  1621  \n",
       "2  NaN  NaN   NaN   NaN    NaN      1     True   715  \n",
       "3  NaN  NaN   NaN   NaN    NaN      1     True  7866  \n",
       "4  NaN  NaN   NaN   NaN    NaN      1     True  1046  \n",
       "\n",
       "[5 rows x 46 columns]"
      ]
     },
     "metadata": {},
     "output_type": "display_data"
    }
   ],
   "source": [
    "display(df_list[0].head())"
   ]
  },
  {
   "cell_type": "code",
   "execution_count": 7,
   "metadata": {},
   "outputs": [
    {
     "name": "stdout",
     "output_type": "stream",
     "text": [
      "(295448, 46)\n"
     ]
    }
   ],
   "source": [
    "df = pd.concat(df_list, axis=0)\n",
    "print(df.shape)"
   ]
  },
  {
   "cell_type": "code",
   "execution_count": 10,
   "metadata": {},
   "outputs": [
    {
     "data": {
      "text/plain": [
       "<Axes: title={'center': '計算各類別個數'}, xlabel='類別', ylabel='個數'>"
      ]
     },
     "execution_count": 10,
     "metadata": {},
     "output_type": "execute_result"
    },
    {
     "data": {
      "image/png": "[encoded data removed]",
      "text/plain": [
       "<Figure size 640x480 with 1 Axes>"
      ]
     },
     "metadata": {},
     "output_type": "display_data"
    }
   ],
   "source": [
    "import numpy as np\n",
    "counts = df.count()\n",
    "\n",
    "names = [\"甲\", \"乙\", \"丙\", \"丁\", \"其他\"]\n",
    "data = np.array(counts[1:21]).reshape(-1, 4)\n",
    "\n",
    "pd.DataFrame(data, index=names, columns=range(1,5)).plot(kind=\"bar\", title=\"計算各類別個數\", xlabel=\"類別\", ylabel=\"個數\", rot=0)"
   ]
  },
  {
   "cell_type": "code",
   "execution_count": 11,
   "metadata": {},
   "outputs": [
    {
     "name": "stdout",
     "output_type": "stream",
     "text": [
      "資料集出現的 ICD 總數:  14968\n",
      "['急性腎衰竭' '心室顫動' '腎衰竭' ... '腸潰瘍' '胃功能障礙' '尿酸性腎病變']\n"
     ]
    }
   ],
   "source": [
    "target_icds = pd.unique(df.iloc[:,23:43].values.ravel('K'))\n",
    "print(\"資料集出現的 ICD 總數: \", len(target_icds))\n",
    "print(target_icds)"
   ]
  },
  {
   "cell_type": "code",
   "execution_count": 12,
   "metadata": {},
   "outputs": [
    {
     "name": "stdout",
     "output_type": "stream",
     "text": [
      "ICD 數量:  14379\n",
      "非 ICD 數量:  588\n"
     ]
    }
   ],
   "source": [
    "icd_set = set(icd[\"中文診斷\"].values)\n",
    "intersection = icd_set.intersection(target_icds)\n",
    "difference = set(target_icds).difference(icd_set)\n",
    "difference.remove(np.nan)\n",
    "print(\"ICD 數量: \", len(intersection))\n",
    "print(\"非 ICD 數量: \", len(difference))"
   ]
  },
  {
   "cell_type": "code",
   "execution_count": 13,
   "metadata": {},
   "outputs": [
    {
     "name": "stdout",
     "output_type": "stream",
     "text": [
      "ICD1_Iris 數量:  2183\n"
     ]
    }
   ],
   "source": [
    "icd_dict = dict(zip(icd[\"中文診斷\"], icd[\"ICD1_Iris\"]))\n",
    "intersection_icd = [icd_dict[i] for i in intersection]\n",
    "print(\"ICD1_Iris 數量: \", len(set(intersection_icd)))"
   ]
  }
 ],
 "metadata": {
  "kernelspec": {
   "display_name": ".venv",
   "language": "python",
   "name": "python3"
  },
  "language_info": {
   "codemirror_mode": {
    "name": "ipython",
    "version": 3
   },
   "file_extension": ".py",
   "mimetype": "text/x-python",
   "name": "python",
   "nbconvert_exporter": "python",
   "pygments_lexer": "ipython3",
   "version": "3.9.16"
  }
 },
 "nbformat": 4,
 "nbformat_minor": 2
}
